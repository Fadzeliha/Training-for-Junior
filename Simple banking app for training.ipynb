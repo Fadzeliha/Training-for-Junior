{
 "cells": [
  {
   "cell_type": "code",
   "execution_count": 1,
   "id": "4d540448",
   "metadata": {},
   "outputs": [],
   "source": [
    "#Create simple banking app for junior training"
   ]
  },
  {
   "cell_type": "code",
   "execution_count": 3,
   "id": "37c02cb8",
   "metadata": {},
   "outputs": [],
   "source": [
    "class Account:\n",
    "    def __init__(self,name,balance = 0):\n",
    "        self.name = name\n",
    "        self.balance = balance\n",
    "    \n",
    "    def deposit(self,amount):\n",
    "        if amount > 0:\n",
    "            self.balance += amount\n",
    "            print(f\"Deposit RM{amount}.New Balance: RM{self.balance}\")\n",
    "        else:\n",
    "            print(\"Invalid deposit amount\")\n",
    "            \n",
    "    def withdraw(self,amount):\n",
    "        if 0 < amount <= self.balance:\n",
    "            self.balance -= amount \n",
    "            print(f\"Withdrawn RM{amount}.New Balance:RM{self.balance}\")\n",
    "        else:\n",
    "            print(\"Insufficient funds\")\n",
    "    \n",
    "    def EnquireBalance(self):\n",
    "        return self.balance\n",
    "        \n",
    "    def __str__(self):\n",
    "        return f\"Account holder:{self.name},Balance:RM{self.balance}\""
   ]
  },
  {
   "cell_type": "code",
   "execution_count": null,
   "id": "b1fe84aa",
   "metadata": {
    "scrolled": false
   },
   "outputs": [
    {
     "name": "stdout",
     "output_type": "stream",
     "text": [
      "Welcome to the Bank\n",
      "Open an account to get started\n"
     ]
    }
   ],
   "source": [
    "def main():\n",
    "    print(\"Welcome to the Bank\")\n",
    "    print(\"Open an account to get started\")\n",
    "    \n",
    "    name = input(\"Enter your name: \")\n",
    "    initial_balance = float(input(\"Enter initial deposit amount:\"))\n",
    "    account = Account(name, initial_balance)\n",
    "    \n",
    "    while True:\n",
    "        print(\"\\n1.Deposit\")\n",
    "        print(\"2.Withdraw\")\n",
    "        print(\"3.Enquire Balance\")\n",
    "        print(\"4.Exit\")\n",
    "        \n",
    "        choice = input(\"Enter your choice:\")\n",
    "        \n",
    "        if choice == '1':\n",
    "            amount = float(input(\"Enter deposit amount: RM\"))\n",
    "            account.deposit(amount)\n",
    "        elif choice == '2':\n",
    "            amount = float(input(\"Enter withdrawal amount: RM\"))\n",
    "            account.withdraw(amount)\n",
    "        elif choice == '3':\n",
    "            print(f\"Your balance:RM{account.EnquireBalance()}\")\n",
    "        elif choice == '4':\n",
    "            print(\"Thank you for banking with us\")\n",
    "            break\n",
    "        else:\n",
    "            print(\"Invalid choice. Please try again.\")\n",
    "            \n",
    "if __name__ == \"__main__\":\n",
    "        main()\n",
    "            "
   ]
  },
  {
   "cell_type": "code",
   "execution_count": null,
   "id": "3be88950",
   "metadata": {},
   "outputs": [],
   "source": []
  }
 ],
 "metadata": {
  "kernelspec": {
   "display_name": "Python 3 (ipykernel)",
   "language": "python",
   "name": "python3"
  },
  "language_info": {
   "codemirror_mode": {
    "name": "ipython",
    "version": 3
   },
   "file_extension": ".py",
   "mimetype": "text/x-python",
   "name": "python",
   "nbconvert_exporter": "python",
   "pygments_lexer": "ipython3",
   "version": "3.11.7"
  }
 },
 "nbformat": 4,
 "nbformat_minor": 5
}
