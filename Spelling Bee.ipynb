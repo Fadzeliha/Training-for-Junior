{
 "cells": [
  {
   "cell_type": "code",
   "execution_count": 3,
   "id": "eb3728f6",
   "metadata": {},
   "outputs": [
    {
     "name": "stdout",
     "output_type": "stream",
     "text": [
      "Collecting pyspellchecker\n",
      "  Downloading pyspellchecker-0.8.1-py3-none-any.whl.metadata (9.4 kB)\n",
      "Downloading pyspellchecker-0.8.1-py3-none-any.whl (6.8 MB)\n",
      "   ---------------------------------------- 0.0/6.8 MB ? eta -:--:--\n",
      "   ---------------------------------------- 0.1/6.8 MB 1.5 MB/s eta 0:00:05\n",
      "   - -------------------------------------- 0.3/6.8 MB 3.1 MB/s eta 0:00:03\n",
      "   --- ------------------------------------ 0.6/6.8 MB 4.0 MB/s eta 0:00:02\n",
      "   --- ------------------------------------ 0.7/6.8 MB 4.1 MB/s eta 0:00:02\n",
      "   ----- ---------------------------------- 0.9/6.8 MB 3.7 MB/s eta 0:00:02\n",
      "   ------- -------------------------------- 1.3/6.8 MB 5.0 MB/s eta 0:00:02\n",
      "   -------- ------------------------------- 1.4/6.8 MB 4.2 MB/s eta 0:00:02\n",
      "   ----------- ---------------------------- 1.9/6.8 MB 5.0 MB/s eta 0:00:01\n",
      "   ----------- ---------------------------- 1.9/6.8 MB 4.6 MB/s eta 0:00:02\n",
      "   -------------- ------------------------- 2.4/6.8 MB 5.2 MB/s eta 0:00:01\n",
      "   --------------- ------------------------ 2.6/6.8 MB 5.1 MB/s eta 0:00:01\n",
      "   ---------------- ----------------------- 2.8/6.8 MB 4.9 MB/s eta 0:00:01\n",
      "   ----------------- ---------------------- 3.0/6.8 MB 5.0 MB/s eta 0:00:01\n",
      "   ------------------- -------------------- 3.2/6.8 MB 4.9 MB/s eta 0:00:01\n",
      "   -------------------- ------------------- 3.4/6.8 MB 4.7 MB/s eta 0:00:01\n",
      "   --------------------- ------------------ 3.6/6.8 MB 4.8 MB/s eta 0:00:01\n",
      "   ---------------------- ----------------- 3.7/6.8 MB 4.7 MB/s eta 0:00:01\n",
      "   ----------------------- ---------------- 3.9/6.8 MB 4.5 MB/s eta 0:00:01\n",
      "   ------------------------ --------------- 4.1/6.8 MB 4.5 MB/s eta 0:00:01\n",
      "   ------------------------ --------------- 4.2/6.8 MB 4.4 MB/s eta 0:00:01\n",
      "   -------------------------- ------------- 4.4/6.8 MB 4.4 MB/s eta 0:00:01\n",
      "   --------------------------- ------------ 4.6/6.8 MB 4.4 MB/s eta 0:00:01\n",
      "   ---------------------------- ----------- 4.8/6.8 MB 4.3 MB/s eta 0:00:01\n",
      "   ----------------------------- ---------- 4.9/6.8 MB 4.3 MB/s eta 0:00:01\n",
      "   ------------------------------ --------- 5.1/6.8 MB 4.3 MB/s eta 0:00:01\n",
      "   ------------------------------- -------- 5.3/6.8 MB 4.3 MB/s eta 0:00:01\n",
      "   -------------------------------- ------- 5.5/6.8 MB 4.3 MB/s eta 0:00:01\n",
      "   --------------------------------- ------ 5.7/6.8 MB 4.3 MB/s eta 0:00:01\n",
      "   ---------------------------------- ----- 5.9/6.8 MB 4.3 MB/s eta 0:00:01\n",
      "   ----------------------------------- ---- 6.0/6.8 MB 4.2 MB/s eta 0:00:01\n",
      "   ------------------------------------ --- 6.1/6.8 MB 4.2 MB/s eta 0:00:01\n",
      "   ------------------------------------- -- 6.3/6.8 MB 4.2 MB/s eta 0:00:01\n",
      "   -------------------------------------- - 6.5/6.8 MB 4.2 MB/s eta 0:00:01\n",
      "   ---------------------------------------  6.7/6.8 MB 4.2 MB/s eta 0:00:01\n",
      "   ---------------------------------------- 6.8/6.8 MB 4.1 MB/s eta 0:00:00\n",
      "Installing collected packages: pyspellchecker\n",
      "Successfully installed pyspellchecker-0.8.1\n",
      "Note: you may need to restart the kernel to use updated packages.\n"
     ]
    },
    {
     "name": "stderr",
     "output_type": "stream",
     "text": [
      "\n",
      "[notice] A new release of pip is available: 24.1.1 -> 24.2\n",
      "[notice] To update, run: python.exe -m pip install --upgrade pip\n"
     ]
    }
   ],
   "source": [
    "pip install pyspellchecker"
   ]
  },
  {
   "cell_type": "code",
   "execution_count": null,
   "id": "9a3ae51a",
   "metadata": {},
   "outputs": [],
   "source": [
    "from spellchecker import SpellChecker\n",
    "corrector = SpellChecker()\n",
    "\n",
    "word = input(\"Enter a Word : \")\n",
    "if word in corrector:\n",
    "    print(\"Correct\")\n",
    "else:\n",
    "    correct_word = corrector.correction(word)\n",
    "    print(\"It's a wrong spelling.The correct/nearest spelling is\", correct_word)\n"
   ]
  },
  {
   "cell_type": "code",
   "execution_count": null,
   "id": "d0c29d46",
   "metadata": {},
   "outputs": [],
   "source": []
  }
 ],
 "metadata": {
  "kernelspec": {
   "display_name": "Python 3 (ipykernel)",
   "language": "python",
   "name": "python3"
  },
  "language_info": {
   "codemirror_mode": {
    "name": "ipython",
    "version": 3
   },
   "file_extension": ".py",
   "mimetype": "text/x-python",
   "name": "python",
   "nbconvert_exporter": "python",
   "pygments_lexer": "ipython3",
   "version": "3.11.7"
  }
 },
 "nbformat": 4,
 "nbformat_minor": 5
}
